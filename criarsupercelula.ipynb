{
  "nbformat": 4,
  "nbformat_minor": 0,
  "metadata": {
    "colab": {
      "provenance": [],
      "authorship_tag": "ABX9TyPA0UaJhlBvioCqB0kvkLJg",
      "include_colab_link": true
    },
    "kernelspec": {
      "name": "python3",
      "display_name": "Python 3"
    },
    "language_info": {
      "name": "python"
    }
  },
  "cells": [
    {
      "cell_type": "markdown",
      "metadata": {
        "id": "view-in-github",
        "colab_type": "text"
      },
      "source": [
        "<a href=\"https://colab.research.google.com/github/1Henri1/supercelulalammps/blob/main/criarsupercelula.ipynb\" target=\"_parent\"><img src=\"https://colab.research.google.com/assets/colab-badge.svg\" alt=\"Open In Colab\"/></a>"
      ]
    },
    {
      "cell_type": "code",
      "execution_count": null,
      "metadata": {
        "colab": {
          "base_uri": "https://localhost:8080/",
          "height": 34
        },
        "id": "n-DwuPRVl0dt",
        "outputId": "3d3fed99-e7ad-473f-8231-93ea5d7011c7"
      },
      "outputs": [
        {
          "output_type": "stream",
          "name": "stdout",
          "text": [
            "Arquivo grapheneN.data gerado com sucesso! Total de 320 átomos.\n"
          ]
        },
        {
          "output_type": "display_data",
          "data": {
            "text/plain": [
              "<IPython.core.display.Javascript object>"
            ],
            "application/javascript": [
              "\n",
              "    async function download(id, filename, size) {\n",
              "      if (!google.colab.kernel.accessAllowed) {\n",
              "        return;\n",
              "      }\n",
              "      const div = document.createElement('div');\n",
              "      const label = document.createElement('label');\n",
              "      label.textContent = `Downloading \"${filename}\": `;\n",
              "      div.appendChild(label);\n",
              "      const progress = document.createElement('progress');\n",
              "      progress.max = size;\n",
              "      div.appendChild(progress);\n",
              "      document.body.appendChild(div);\n",
              "\n",
              "      const buffers = [];\n",
              "      let downloaded = 0;\n",
              "\n",
              "      const channel = await google.colab.kernel.comms.open(id);\n",
              "      // Send a message to notify the kernel that we're ready.\n",
              "      channel.send({})\n",
              "\n",
              "      for await (const message of channel.messages) {\n",
              "        // Send a message to notify the kernel that we're ready.\n",
              "        channel.send({})\n",
              "        if (message.buffers) {\n",
              "          for (const buffer of message.buffers) {\n",
              "            buffers.push(buffer);\n",
              "            downloaded += buffer.byteLength;\n",
              "            progress.value = downloaded;\n",
              "          }\n",
              "        }\n",
              "      }\n",
              "      const blob = new Blob(buffers, {type: 'application/binary'});\n",
              "      const a = document.createElement('a');\n",
              "      a.href = window.URL.createObjectURL(blob);\n",
              "      a.download = filename;\n",
              "      div.appendChild(a);\n",
              "      a.click();\n",
              "      div.remove();\n",
              "    }\n",
              "  "
            ]
          },
          "metadata": {}
        },
        {
          "output_type": "display_data",
          "data": {
            "text/plain": [
              "<IPython.core.display.Javascript object>"
            ],
            "application/javascript": [
              "download(\"download_7bbf666a-e07d-40b1-95fa-0bdfc60cb8fb\", \"grapheneN.data\", 10953)"
            ]
          },
          "metadata": {}
        }
      ],
      "source": [
        "import numpy as np\n",
        "\n",
        "def generate_lammps_positions(vectors, bases, repetitions, output_file=\"atoms.lmp\", lattice_param=1.0):\n",
        "    vectors = np.array(vectors) * lattice_param\n",
        "    bases = np.array(bases)\n",
        "    nx_negative, nx_positive, ny_negative, ny_positive, nz_negative, nz_positive = repetitions\n",
        "\n",
        "\n",
        "    positions = []\n",
        "\n",
        "    centers = [np.zeros(3)]\n",
        "\n",
        "    # Gerar as posições\n",
        "    for center in centers:\n",
        "      for i in range(-nx_negative, nx_positive ):  # Repetições no eixo x\n",
        "        for j in range(-ny_negative, ny_positive ):  # Repetições no eixo y\n",
        "            for k in range(-nz_negative, nz_positive ):  # Repetições no eixo z\n",
        "                translation_x = i * vectors[0]  # Translação no eixo x\n",
        "                while translation_x[1]>= np.linalg.norm(vectors[1]):\n",
        "                  translation_x[1] -= np.linalg.norm(vectors[1])\n",
        "                while translation_x[1]< 0:\n",
        "                  translation_x[1] += np.linalg.norm(vectors[1])\n",
        "                translation_y = j * vectors[1]  # Translação no eixo y\n",
        "\n",
        "                translation = translation_x + translation_y + k * vectors[2]\n",
        "\n",
        "                for base in bases:\n",
        "                    # Calcular a posição ajustada\n",
        "                    position = (\n",
        "                        center\n",
        "                        + translation\n",
        "                        + base[0] * vectors[0]\n",
        "                        + base[1] * vectors[1]\n",
        "                        + base[2] * vectors[2]\n",
        "                    )\n",
        "\n",
        "                    # Adicionar a posição se não for duplicada\n",
        "                    if not any(np.allclose(position, existing, atol=1e-8) for existing in positions):\n",
        "                        positions.append(position)\n",
        "\n",
        "\n",
        "    # Escrever no arquivo no formato LAMMPS\n",
        "    with open(output_file, \"w\") as f:\n",
        "        f.write(f\"LAMMPS data file for doped graphene\\n\\n\")\n",
        "        f.write(f\"{len(positions)} atoms\\n\")\n",
        "        f.write(f\"2 atom types\\n\\n\")\n",
        "        f.write(f\"{-nx_negative * np.linalg.norm(vectors[0]):.6f} {(nx_positive+1) * np.linalg.norm(vectors[0]):.6f} xlo xhi\\n\")\n",
        "        f.write(f\"{-(ny_negative) * np.linalg.norm(vectors[1]):.6f} {(ny_positive) * np.linalg.norm(vectors[1]):.6f} ylo yhi\\n\")\n",
        "        f.write(f\"{-nz_negative * np.linalg.norm(vectors[2]):.6f} {(nz_positive) * np.linalg.norm(vectors[2]):.6f} zlo zhi\\n\\n\")\n",
        "        f.write(f\"Masses\\n\\n1 12.011\\n2 14.007\\n\\nAtoms\\n\\n\")\n",
        "        for idx, pos in enumerate(positions, start=1):\n",
        "            f.write(f\"{idx} 1 {pos[0]:.6f} {pos[1]:.6f} {pos[2]:.6f}\\n\")\n",
        "\n",
        "\n",
        "\n",
        "    print(f\"Arquivo {output_file} gerado com sucesso! Total de {len(positions)} átomos.\")\n",
        "\n",
        "\n",
        "# Dados de exemplo\n",
        "vectors = [\n",
        "    [1.5, 0.866025403784439, 0.0],  # Vetor 1 (exemplo)\n",
        "    [0.0, 1.732050807568878, 0.0],  # Vetor 2 (exemplo)\n",
        "    [0.0, 0.0, 23.63098411]   # Vetor 3 (exemplo)\n",
        "]\n",
        "\n",
        "bases = [\n",
        "    [0.0, 0.0, 0.0],\n",
        "    [0.666668236, -0.333334118, 0.0],\n",
        "    [1.333336472, -0.666668236, 0.1],\n",
        "    [0.666668236, -0.333334118, 0.1]\n",
        "]\n",
        "\n",
        "repetitions = [0, 10, 0, 8, 0, 1]\n",
        "\n",
        "lattice_param = 1.438789\n",
        "\n",
        "generate_lammps_positions(vectors, bases, repetitions, output_file=\"grapheneN.data\", lattice_param=lattice_param)\n",
        "\n",
        "# Baixar o arquivo gerado\n",
        "from google.colab import files\n",
        "files.download(\"grapheneN.data\")\n"
      ]
    }
  ]
}